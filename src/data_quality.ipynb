{
 "cells": [
  {
   "cell_type": "code",
   "execution_count": 2,
   "metadata": {},
   "outputs": [],
   "source": [
    "import pandas as pd"
   ]
  },
  {
   "cell_type": "markdown",
   "metadata": {},
   "source": [
    "### Are any weeks missing?"
   ]
  },
  {
   "cell_type": "code",
   "execution_count": 3,
   "metadata": {},
   "outputs": [],
   "source": [
    "data = pd.read_csv(\"../data/preprocessed_data/germany_weekly_testing_data.csv\")"
   ]
  },
  {
   "cell_type": "code",
   "execution_count": 4,
   "metadata": {},
   "outputs": [
    {
     "name": "stdout",
     "output_type": "stream",
     "text": [
      "Data ranges from 2020, W10 to 2022, W33.\n"
     ]
    }
   ],
   "source": [
    "min_year = data[\"year\"].min()\n",
    "max_year = data[\"year\"].max()\n",
    "min_year_data = data[data[\"year\"] == min_year]\n",
    "max_year_data = data[data[\"year\"] == max_year]\n",
    "\n",
    "print(f\"Data ranges from {min_year}, W{min_year_data['week'].min()} to {data['year'].max()}, W{max_year_data['week'].max()}.\")"
   ]
  },
  {
   "cell_type": "code",
   "execution_count": 5,
   "metadata": {},
   "outputs": [
    {
     "name": "stdout",
     "output_type": "stream",
     "text": [
      "Missing data for 2021, W53.\n"
     ]
    }
   ],
   "source": [
    "for year in range(min_year, max_year+1):\n",
    "    for week in range(1, 54):\n",
    "        if year == min_year and week < min_year_data[\"week\"].min():\n",
    "            continue\n",
    "        if year == max_year and week > max_year_data[\"week\"].max():\n",
    "            continue\n",
    "        if not ((data[\"year\"] == year) & (data[\"week\"] == week)).any():\n",
    "            print(f\"Missing data for {year}, W{week}.\")"
   ]
  },
  {
   "cell_type": "markdown",
   "metadata": {},
   "source": [
    "2021 had only 52 weeks. This means that there is data for every single week."
   ]
  }
 ],
 "metadata": {
  "kernelspec": {
   "display_name": "base",
   "language": "python",
   "name": "python3"
  },
  "language_info": {
   "codemirror_mode": {
    "name": "ipython",
    "version": 3
   },
   "file_extension": ".py",
   "mimetype": "text/x-python",
   "name": "python",
   "nbconvert_exporter": "python",
   "pygments_lexer": "ipython3",
   "version": "3.11.5"
  }
 },
 "nbformat": 4,
 "nbformat_minor": 2
}
